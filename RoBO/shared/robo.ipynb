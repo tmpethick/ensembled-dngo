{
 "cells": [
  {
   "cell_type": "code",
   "execution_count": 2,
   "metadata": {},
   "outputs": [],
   "source": [
    "import numpy as np\n",
    "\n",
    "from robo.fmin import bayesian_optimization\n",
    "def objective_function(x):\n",
    "    y = np.sin(3 * x[0]) * 4 * (x[0] - 1) * (x[0] + 2)\n",
    "    return y\n",
    "\n",
    "lower = np.array([0])\n",
    "upper = np.array([6])"
   ]
  },
  {
   "cell_type": "code",
   "execution_count": 3,
   "metadata": {},
   "outputs": [],
   "source": [
    "\n",
    "# GP solution\n",
    "results = bayesian_optimization(objective_function, lower, upper, num_iterations=50)"
   ]
  },
  {
   "cell_type": "code",
   "execution_count": null,
   "metadata": {},
   "outputs": [],
   "source": [
    "\n",
    "# bohamiann\n",
    "from robo.fmin import bohamiann\n",
    "results = bohamiann(objective_function, lower, upper, num_iterations=50)\n"
   ]
  },
  {
   "cell_type": "code",
   "execution_count": null,
   "metadata": {},
   "outputs": [],
   "source": [
    "\n",
    "# Benchmarks\n",
    "from hpolib.benchmarks.synthetic_functions import Branin\n",
    "f = Branin()\n",
    "info = f.get_meta_information()\n",
    "bounds = np.array(info['bounds'])\n",
    "results = bayesian_optimization(f, bounds[:, 0], bounds[:, 1], num_iterations=50)\n"
   ]
  },
  {
   "cell_type": "code",
   "execution_count": 7,
   "metadata": {},
   "outputs": [
    {
     "name": "stdout",
     "output_type": "stream",
     "text": [
      "... compiling theano function\n",
      "... compiling theano function\n"
     ]
    }
   ],
   "source": [
    "\n",
    "# Training BNN \n",
    "import matplotlib.pyplot as plt\n",
    "import numpy as np\n",
    "\n",
    "from robo.models.bnn import BayesianNeuralNetwork\n",
    "from robo.initial_design.init_random_uniform import init_random_uniform\n",
    "\n",
    "rng = np.random.RandomState(np.random.randint(0, 10000))\n",
    "\n",
    "def f(x):\n",
    "    return np.sinc(x * 10 - 5).sum(axis=1)\n",
    "\n",
    "X = init_random_uniform(np.zeros(1), np.ones(1), 20, rng)\n",
    "y = f(X)\n",
    "\n",
    "model = BayesianNeuralNetwork(sampling_method=\"sghmc\",\n",
    "                              l_rate=np.sqrt(1e-4),\n",
    "                              mdecay=0.05,\n",
    "                              burn_in=3000,\n",
    "                              n_iters=50000,\n",
    "                              precondition=True,\n",
    "                              normalize_input=True,\n",
    "                              normalize_output=True)\n",
    "model.train(X, y)\n",
    "\n",
    "x = np.linspace(0, 1, 100)[:, None]\n",
    "mean_pred, var_pred = model.predict(x)\n"
   ]
  },
  {
   "cell_type": "code",
   "execution_count": null,
   "metadata": {},
   "outputs": [],
   "source": []
  }
 ],
 "metadata": {
  "kernelspec": {
   "display_name": "Python 3",
   "language": "python",
   "name": "python3"
  },
  "language_info": {
   "codemirror_mode": {
    "name": "ipython",
    "version": 3
   },
   "file_extension": ".py",
   "mimetype": "text/x-python",
   "name": "python",
   "nbconvert_exporter": "python",
   "pygments_lexer": "ipython3",
   "version": "3.6.5"
  }
 },
 "nbformat": 4,
 "nbformat_minor": 2
}
